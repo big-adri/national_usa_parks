{
 "cells": [
  {
   "attachments": {},
   "cell_type": "markdown",
   "metadata": {},
   "source": [
    "# Bio Diversity in National Parks (USA)"
   ]
  },
  {
   "attachments": {},
   "cell_type": "markdown",
   "metadata": {},
   "source": [
    "### Setting it up "
   ]
  },
  {
   "cell_type": "code",
   "execution_count": null,
   "metadata": {},
   "outputs": [],
   "source": [
    "import pandas as pd\n",
    "import numpy as np\n",
    "import matplotlib.pyplot as plt\n",
    "import seaborn as sns\n",
    "import scipy.stats as pearsonr\n",
    "import statsmodels as sm"
   ]
  },
  {
   "cell_type": "code",
   "execution_count": null,
   "metadata": {},
   "outputs": [],
   "source": [
    "obs_data = pd.read_csv(\"observations.csv\")\n",
    "obs_data.head()"
   ]
  },
  {
   "cell_type": "code",
   "execution_count": null,
   "metadata": {},
   "outputs": [],
   "source": [
    "obs_data.describe()\n",
    "obs_data.info()\n"
   ]
  },
  {
   "cell_type": "code",
   "execution_count": null,
   "metadata": {},
   "outputs": [],
   "source": [
    "spc_data = pd.read_csv(\"species_info.csv\")\n",
    "spc_data.conservation_status.unique()\n"
   ]
  },
  {
   "cell_type": "code",
   "execution_count": null,
   "metadata": {},
   "outputs": [],
   "source": [
    "spc_data.describe()\n",
    "spc_data.info()"
   ]
  },
  {
   "cell_type": "code",
   "execution_count": null,
   "metadata": {},
   "outputs": [],
   "source": [
    "spc_data.head()"
   ]
  },
  {
   "attachments": {},
   "cell_type": "markdown",
   "metadata": {},
   "source": [
    "### Understanding variables"
   ]
  },
  {
   "cell_type": "code",
   "execution_count": null,
   "metadata": {},
   "outputs": [],
   "source": [
    "# Conservation Status variable\n",
    "print(spc_data.conservation_status.value_counts())\n",
    "print(spc_data.conservation_status.isna().value_counts())"
   ]
  },
  {
   "attachments": {},
   "cell_type": "markdown",
   "metadata": {},
   "source": [
    "Conservation status variable is just filled with species whose conservation status is of concern. All NaN values in this column are, mainly, from species not falling in any of those categories."
   ]
  },
  {
   "attachments": {},
   "cell_type": "markdown",
   "metadata": {},
   "source": [
    "### Cleaning \n",
    "Dropping `Nan` and `duplicated` rows in both `spc_data` and `obs_data`"
   ]
  },
  {
   "cell_type": "code",
   "execution_count": null,
   "metadata": {},
   "outputs": [],
   "source": [
    "print(len(spc_data), len(obs_data))\n",
    "spc_data.drop_duplicates(inplace = True)\n",
    "# spc_data.dropna(inplace = True) # to be just dropped in columns not conservation_status\n",
    "obs_data.drop_duplicates(inplace = True)\n",
    "obs_data.dropna(inplace = True)\n",
    "print(len(spc_data), len(obs_data))"
   ]
  },
  {
   "attachments": {},
   "cell_type": "markdown",
   "metadata": {},
   "source": [
    "## Data Overview"
   ]
  },
  {
   "attachments": {},
   "cell_type": "markdown",
   "metadata": {},
   "source": [
    "### Species Overview\n",
    "Analysing `spc_data` first. Grasping over `category` distriubution, `conservation_status` against `category` analysis and, for the geeks, average number of `common-names` for each `category`."
   ]
  },
  {
   "cell_type": "code",
   "execution_count": null,
   "metadata": {},
   "outputs": [],
   "source": [
    "\n",
    "# 1. Category Distribution of Registered Species\n",
    "sns.set(style=\"whitegrid\")\n",
    "plt.figure(figsize=(10, 6))\n",
    "ax = sns.barplot(x=spc_data.category.value_counts().index, y=spc_data.category.value_counts().values)\n",
    "ax.set_title(\"Category Distribution\")\n",
    "ax.set_xlabel(\"Category\")\n",
    "ax.set_ylabel(\"Count\")\n",
    "ax.set_yticks(range(0, 5000,500))\n",
    "plt.show()\n",
    "plt.clf()\n",
    "\n",
    "# Some stats about category variable\n",
    "print(\"Category with less species is \" + str(spc_data.category.value_counts().idxmin()) + \" with \" + str(spc_data.category.value_counts().min()))\n",
    "print(\"Category with more species is \" + str(spc_data.category.value_counts().idxmax()) + \" with \" + str(spc_data.category.value_counts().max()))\n",
    "print(\"Average number of species per category is \" + str(np.int0(spc_data.category.value_counts().mean())))\n",
    "spc_no_plants = spc_data[spc_data.category != \"Vascular Plant\"]\n",
    "print(\"Average number of species per category considering Vascular Plants as an outlayer is \" + str(np.int0(spc_no_plants.category.value_counts().mean())))\n",
    "\n",
    "\n",
    "\n"
   ]
  },
  {
   "attachments": {},
   "cell_type": "markdown",
   "metadata": {},
   "source": [
    "### Conclusion 1:\n",
    "The most tracked/studied categories are `Vascular Plant` with almost 4500 species within it. The less registered is `Reptile` with 72 species recorded. "
   ]
  },
  {
   "cell_type": "code",
   "execution_count": null,
   "metadata": {},
   "outputs": [],
   "source": [
    "# 2. Conservation Status against category\n",
    "# For studying conservation status distribution for each category, rows with NaN values \n",
    "# in conservation_stauts column need to be dropped\n",
    "\n",
    "aux_spc_data = spc_data.dropna()\n",
    "\n",
    "sns.set(style=\"whitegrid\")\n",
    "plt.figure(figsize=(10,6))\n",
    "ax = sns.countplot(x=\"conservation_status\", hue=\"category\", data = aux_spc_data, palette=\"bright\")\n",
    "ax.set_title('Conservation Status Distribution grouped by Category')\n",
    "ax.set_xlabel(\"Conservation Status\")\n",
    "ax.set_ylabel(\"Count\")\n",
    "ax.legend(title=\"Category\")\n",
    "for p in ax.patches:\n",
    "    ax.annotate(format(p.get_height(), '.0f'), \n",
    "                (p.get_x() + p.get_width() / 2., p.get_height()), \n",
    "                ha='center', va='center', \n",
    "                xytext=(0, 9), \n",
    "                textcoords='offset points',\n",
    "                fontsize=11)\n",
    "plt.show()"
   ]
  },
  {
   "attachments": {},
   "cell_type": "markdown",
   "metadata": {},
   "source": [
    "### Observations Overview\n",
    "Analysing `obs_data`. What is the `total_observations` distribution? "
   ]
  },
  {
   "cell_type": "code",
   "execution_count": null,
   "metadata": {},
   "outputs": [],
   "source": [
    "sns.set(style=\"whitegrid\")\n",
    "plt.figure(figsize=(10,6))\n",
    "park_obs = obs_data.groupby('park_name')['observations'].sum().reset_index()\n",
    "\n",
    "plt.figure(figsize=(12,6))\n",
    "ax = sns.barplot(x=\"park_name\", y=\"observations\", data=park_obs)\n",
    "ax.set_yticks(park_obs.observations)\n",
    "ax.set_yticklabels(park_obs.observations)\n",
    "plt.tight_layout()\n",
    "sns.despine()\n",
    "ax.yaxis.grid(False)\n",
    "plt.show()\n",
    "\n",
    "print(park_obs.observations.mean())\n",
    "\n",
    "print(\"The average number of observations per National Park is \" + str(np.int0(park_obs.observations.mean())))\n",
    "\n"
   ]
  },
  {
   "attachments": {},
   "cell_type": "markdown",
   "metadata": {},
   "source": [
    "### Conclusion 2\n",
    "Yellowstone is, by far, the National Park which has the highest number of observations, Great Smokey Mountains is the one with the fewest.\n",
    "The average number of observations per national park is 828107."
   ]
  },
  {
   "attachments": {},
   "cell_type": "markdown",
   "metadata": {},
   "source": [
    "## Merge Time\n",
    "Now, we will analyze the most observed categories for each and across all National Parks."
   ]
  },
  {
   "cell_type": "code",
   "execution_count": null,
   "metadata": {},
   "outputs": [],
   "source": [
    "data = obs_data.merge(spc_data, on=\"scientific_name\")\n",
    "data.park_name = data.park_name.str.replace(\" National Park\", \"\")\n",
    "data.head()\n"
   ]
  },
  {
   "cell_type": "code",
   "execution_count": null,
   "metadata": {},
   "outputs": [],
   "source": [
    "data.groupby(\"park_name\")[\"category\"].value_counts().head(40)\n"
   ]
  },
  {
   "cell_type": "code",
   "execution_count": null,
   "metadata": {},
   "outputs": [],
   "source": [
    "data_obs = data.groupby([\"park_name\", \"category\"])[\"observations\"].sum().reset_index()\n",
    "\n",
    "# Using data_obs to plot the distribution of observations of each category for each National Park\n",
    "\n",
    "plt.figure(figsize=(18, 8))\n",
    "sns.set(style=\"whitegrid\")\n",
    "ax = sns.barplot(x=\"park_name\", y=\"observations\", hue=\"category\", dodge=True, data=data_obs, palette=\"bright\")\n",
    "plt.title(\"Observations by National Park\", fontsize=20)\n",
    "plt.xlabel(\"Park Name\", fontsize=12)\n",
    "plt.ylabel(\"Observations\", fontsize=12)\n",
    "# ax.set_yticks(range(0,1000000,100000))\n",
    "# ax.set_yticklabels(range(0,1000000,100000))\n",
    "# I left the previous lines of code to show how I manually tried to solve this (uncomment to see)\n",
    "# I finally decided to apply plt.yscale(\"log\") to deal with it\n",
    "plt.yscale(\"log\")\n",
    "plt.legend(fontsize=16)\n",
    "plt.show()\n",
    "plt.clf()\n"
   ]
  },
  {
   "attachments": {},
   "cell_type": "markdown",
   "metadata": {},
   "source": [
    "### Conclusion 3\n",
    "As expected, `Vascular Plant` is the most tracked category across all National Parks. However, this display of the 4 integrated bar plots makes visible the little differences in between each park for every category. `Amphiabian` and `Reptile` are the less tracked in all parks (as assumable)."
   ]
  },
  {
   "attachments": {},
   "cell_type": "markdown",
   "metadata": {},
   "source": [
    "### Number of Species of Concern in each National Park (by Category)\n",
    "Now, we will be plotting a separate graph for each National Park. That way we will be able to see, for each park, the number of  species whose conservation status is beeing tracked clustered by category."
   ]
  },
  {
   "cell_type": "code",
   "execution_count": null,
   "metadata": {},
   "outputs": [],
   "source": [
    "\n",
    "# Now plotting the distribution of categories of those species whose conservation status is of concern for each park.\n",
    "park_list = data.park_name.unique()\n",
    "print(park_list)\n",
    "for i in park_list:\n",
    "    aux_data = data[data[\"park_name\"] == i]\n",
    "    sns.set(style=\"whitegrid\")\n",
    "    plt.figure(figsize=(12,8))\n",
    "    plt.title(str(i) + \" National Park's Distribution of Conservation Status \", fontsize=17)\n",
    "    ax = sns.countplot(data=aux_data, x=\"conservation_status\", hue=\"category\")\n",
    "    ax.legend(title=\"Category\")\n",
    "    plt.ylabel(\"Counts\")\n",
    "    plt.xlabel(\"Conservation Status\")\n",
    "    for p in ax.patches:\n",
    "        ax.annotate(format(p.get_height(), '.0f'), \n",
    "                (p.get_x() + p.get_width() / 2., p.get_height()), \n",
    "                ha='center', va='center', \n",
    "                xytext=(0, 9), \n",
    "                textcoords='offset points',\n",
    "                fontsize=11)\n",
    "    plt.show()\n",
    "    plt.clf()\n",
    "   "
   ]
  }
 ],
 "metadata": {
  "kernelspec": {
   "display_name": "Python 3",
   "language": "python",
   "name": "python3"
  },
  "language_info": {
   "codemirror_mode": {
    "name": "ipython",
    "version": 3
   },
   "file_extension": ".py",
   "mimetype": "text/x-python",
   "name": "python",
   "nbconvert_exporter": "python",
   "pygments_lexer": "ipython3",
   "version": "3.9.12"
  }
 },
 "nbformat": 4,
 "nbformat_minor": 4
}
